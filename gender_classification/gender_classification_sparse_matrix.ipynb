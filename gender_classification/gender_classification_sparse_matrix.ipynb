{
 "cells": [
  {
   "cell_type": "code",
   "execution_count": 3,
   "metadata": {},
   "outputs": [],
   "source": [
    "import pickle\n",
    "from scipy.sparse import csr_matrix, save_npz"
   ]
  },
  {
   "cell_type": "code",
   "execution_count": 4,
   "metadata": {},
   "outputs": [],
   "source": [
    "postfixes = [\"_labels.txt\", \"_rows.txt\",\"column.txt\",\"_data.txt\"]\n",
    "with open(\"features_dict_gender.pkl\",\"rb\") as file:\n",
    "    features_id = pickle.load(file)"
   ]
  },
  {
   "cell_type": "code",
   "execution_count": 5,
   "metadata": {},
   "outputs": [],
   "source": [
    "#Function loads saved row, column, data, labels information from txt file and convert and creates sparse_matrix\n",
    "def load_create_csr(prefix, save_path):\n",
    "    sparce_components = []\n",
    "    #Add labels,rows,and columns info\n",
    "    for postfix in postfixes[:-1]:\n",
    "        with open(prefix + postfix) as file:\n",
    "            items = [int(item) for item in file.read().split(\",\")]\n",
    "            sparce_components.append(items)\n",
    "    #Add data info\n",
    "    with open(prefix + postfixes[-1]) as file:\n",
    "        items = [float(item) for item in file.read().split(\",\")]\n",
    "        sparce_components.append(items)\n",
    "        \n",
    "    rows_count  = len(sparce_components[0])\n",
    "    dim = len(features_id)\n",
    "    csr_matrix = csr_matrix(sparce_components[-1], (sparce_components[1], sparce_components[2]), shape=(rows_count, dim))\n",
    "    save_npz(save_path,csr_matrix)\n",
    "    del csr_matrix\n",
    "    del sparce_components"
   ]
  },
  {
   "cell_type": "code",
   "execution_count": null,
   "metadata": {},
   "outputs": [],
   "source": [
    "load_create_csr(\"train\",\"train.npz\")\n",
    "load_create_csr(\"valid\",\"valid.npz\")\n",
    "load_create_csr(\"test\",\"test.npz\")"
   ]
  }
 ],
 "metadata": {
  "kernelspec": {
   "display_name": "Python 3",
   "language": "python",
   "name": "python3"
  },
  "language_info": {
   "codemirror_mode": {
    "name": "ipython",
    "version": 3
   },
   "file_extension": ".py",
   "mimetype": "text/x-python",
   "name": "python",
   "nbconvert_exporter": "python",
   "pygments_lexer": "ipython3",
   "version": "3.8.5"
  }
 },
 "nbformat": 4,
 "nbformat_minor": 4
}
